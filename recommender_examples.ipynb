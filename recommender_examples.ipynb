{
 "cells": [
  {
   "cell_type": "markdown",
   "metadata": {},
   "source": [
    "##  Recommender engine test.\n",
    "\n",
    "The recommender.py module contains the artist class. The artist class has two functions; the scrape function that scrapes the LastFM webpages to retrieve any missing artists tags and also the recommender engine itself.\n",
    "\n",
    "The recommender engine uses simple cosine similarity to make recommendations from two utility matrices. The first is the user-artist utility matrix which contains binary data. Has a user listened to an artist in the catalogue or not. The second matrix is more of an item-item utility matrix. Here I attempted to extract information for each artist in terms of how often they were tagged, how frequently they were listened to an also what type of music does the artist play. The data will be biased in terms of collectively how often the artist was tagged or listened to and this will influence the recommendations from this matrix.\n",
    "\n",
    "Generally the data is very sparse. There are over 17,000 artists and over 8000 users but the amount of artists listened to or tagged by the user population is relatively low. With the sparsity as it is the test is more akin to a cold start.\n",
    "\n",
    "Both functions are called below."
   ]
  },
  {
   "cell_type": "code",
   "execution_count": 1,
   "metadata": {},
   "outputs": [],
   "source": [
    "#Importing the artist class.\n",
    "from Downloads.recommender import artists as a "
   ]
  },
  {
   "cell_type": "markdown",
   "metadata": {},
   "source": [
    "##### Scrape function\n",
    "For illustrative purposed only the first two artist URLs are scrapped. You need to pass to this function the first and last URL records you wish to scrape.\n",
    " "
   ]
  },
  {
   "cell_type": "code",
   "execution_count": 2,
   "metadata": {},
   "outputs": [
    {
     "name": "stdout",
     "output_type": "stream",
     "text": [
      "                                            url        tag\n",
      "0  http://www.last.fm/music/Artista+sconosciuto  post rock\n",
      "1                http://www.last.fm/music/Pjusk    ambient\n"
     ]
    }
   ],
   "source": [
    "#Scrape function. Only the first two URL's are scraped in this instance.\n",
    "a.scrape(0,2)"
   ]
  },
  {
   "cell_type": "markdown",
   "metadata": {},
   "source": [
    "##### Recommender function\n",
    "When called the function will first display the sparsity of the current user-item and item-item utility matrices.  Next the function will prompt the user to enter which artist is of interest and it will check if that artist is in the database. In the raw database the artist names are case sensitive and in some cases misspelt. \n",
    "The function allows the user two attempts to enter the artist name correctly before the function quits. \n",
    "\n",
    "If the artist is in the database it will produce an artist ID. A second prompt will then ask for the artist ID to be entered. It will subsequently produce ten recommendations from the user-item matrix and a further ten from the item-item matrix.  "
   ]
  },
  {
   "cell_type": "code",
   "execution_count": 16,
   "metadata": {},
   "outputs": [
    {
     "name": "stdout",
     "output_type": "stream",
     "text": [
      "user-item matrix sparsity is: 0.9972171848800758\n",
      "item-item matrix sparsity is  0.9319186356023201\n",
      "\n",
      "Enter artist name to get ID:Justin Beebber\n",
      "The artist ID is: []\n",
      "Search is case sensitive , cant find artist, please try again\n",
      "Enter artist name to get ID:justin biebber\n",
      "The artist ID is: []\n",
      "Search is case sensitive , cant find artist, please try again\n",
      "Sorry artist may not be in the database.\n"
     ]
    }
   ],
   "source": [
    "#Recommendation function. Example where the artist name is entered incorrectly twice before the function quits.\n",
    "a.make_recommendations()"
   ]
  },
  {
   "cell_type": "code",
   "execution_count": 15,
   "metadata": {},
   "outputs": [
    {
     "name": "stdout",
     "output_type": "stream",
     "text": [
      "user-item matrix sparsity is: 0.9972171848800758\n",
      "item-item matrix sparsity is  0.9319186356023201\n",
      "\n",
      "Enter artist name to get ID:U2\n",
      "The artist ID is: [511]\n",
      "enter artistID:511\n",
      "You selected ['U2']\n",
      "\n",
      "If you like ['U2']  other users also liked:\n",
      "\n",
      "['Coldplay' 'Depeche Mode' 'R.E.M.' 'Oasis' 'The Beatles'\n",
      " 'Red Hot Chili Peppers' 'Muse' 'Radiohead' 'The Cure']\n",
      "\n",
      "You might also consider the following artists:\n",
      "\n",
      "['Ke$ha' 'Taylor Swift' 'Rihanna' 'Depeche Mode' 'Evanescence' 'Lady Gaga'\n",
      " '30 Seconds to Mars' 'Miley Cyrus' 'Shakira']\n"
     ]
    }
   ],
   "source": [
    "#Second example where user inputs the artist name correctly. \n",
    "a.make_recommendations()"
   ]
  }
 ],
 "metadata": {
  "kernelspec": {
   "display_name": "Python 3",
   "language": "python",
   "name": "python3"
  },
  "language_info": {
   "codemirror_mode": {
    "name": "ipython",
    "version": 3
   },
   "file_extension": ".py",
   "mimetype": "text/x-python",
   "name": "python",
   "nbconvert_exporter": "python",
   "pygments_lexer": "ipython3",
   "version": "3.6.8"
  }
 },
 "nbformat": 4,
 "nbformat_minor": 2
}
