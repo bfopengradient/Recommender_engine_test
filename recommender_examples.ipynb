{
 "cells": [
  {
   "cell_type": "markdown",
   "metadata": {},
   "source": [
    "##  Recommender engine test.\n",
    "\n",
    "The link to the data is cited below. The recommender.py module contains the artist class. The artists class has two functions. To make recommendations for a new user and also to scrape LastFM webpages to retrieve missing artists tags.\n",
    "\n",
    "The recommender uses simple cosine similarity to make recommendations from two utility matrices. The first is the user-artist utility matrix which contains binary data. Has a user listened to an artist in the catalogue or now. The second matrix is more of an item-item utility matrix. Here I attempted to extract information for each artist in terms of how often they were tagged, how frequently they were listened to an also what type of music does the artist play. \n",
    "\n",
    "Generally the data is sparse. There are over 17,000 artists and over 8000 users but the amount of artists listened or tagged to by the user population is relatively low. \n",
    "\n",
    "Both functions are called below.\n"
   ]
  },
  {
   "cell_type": "code",
   "execution_count": 6,
   "metadata": {},
   "outputs": [],
   "source": [
    "#Import the artist class\n",
    "from Downloads.recommender import artists as a "
   ]
  },
  {
   "cell_type": "markdown",
   "metadata": {},
   "source": [
    "##### Scrape function\n",
    "Scrape first two untagged artists urls..retrieves first available tag from lastfm url. Note the item-item utility matrix uses a scraped tags file which already contains scraped tags for most of the 17,000 artists. The scrape function takes first and last record to be scraped. For illustrative purposed only first two artists URLs are scrapped.\n",
    "###### Scrape responsibly!  "
   ]
  },
  {
   "cell_type": "code",
   "execution_count": 7,
   "metadata": {},
   "outputs": [
    {
     "name": "stdout",
     "output_type": "stream",
     "text": [
      "                                            url        tag\n",
      "0  http://www.last.fm/music/Artista+sconosciuto  post rock\n",
      "1                http://www.last.fm/music/Pjusk    ambient\n"
     ]
    }
   ],
   "source": [
    "#Scrape function \n",
    "a.scrape(0,2)"
   ]
  },
  {
   "cell_type": "markdown",
   "metadata": {},
   "source": [
    "##### Recommender function\n",
    "Function will first display the sparsity of the current user-item and item-item utility matrices. The current user-item matrix is very spare as is the item-item matrix. Next the function will prompt the user to enter which artist is of interest and it will check if that artist is in the database. If the artist is in the database it will produce an artist ID. A second prompt will ask for the artistID to be entered. It will then produce ten recommendations from the user-item matrix and a further ten from the item-item matrix. The artist names are case sensitive and in some cases misspelt. A user has two attempts to enter the artist name correctly before the function quits."
   ]
  },
  {
   "cell_type": "code",
   "execution_count": 8,
   "metadata": {},
   "outputs": [
    {
     "name": "stdout",
     "output_type": "stream",
     "text": [
      "user-item matrix sparsity is: 0.9972171848800758\n",
      "item-item matrix sparsity is  0.9319186356023201\n",
      "\n",
      "Enter artist name to get ID:bob dyland\n",
      "The artist ID is: []\n",
      "Search is case sensitive , cant find artist, please try again\n",
      "Enter artist name to get ID:bob dylan\n",
      "The artist ID is: []\n",
      "Search is case sensitive , cant find artist, please try again\n",
      "Sorry artist may not be in the database.\n"
     ]
    }
   ],
   "source": [
    "#Example where user is given two attempts to input their artist of interest. Raw data is case sensitive and\n",
    "#in many cases misspelt. Cleaning those potential spelling mistakes is beyond the scope of this test.\n",
    "#After the second failed attempt the user is exited from the engine. \n",
    "a.make_recommendations()"
   ]
  },
  {
   "cell_type": "code",
   "execution_count": 9,
   "metadata": {},
   "outputs": [
    {
     "name": "stdout",
     "output_type": "stream",
     "text": [
      "user-item matrix sparsity is: 0.9972171848800758\n",
      "item-item matrix sparsity is  0.9319186356023201\n",
      "\n",
      "Enter artist name to get ID:Bob Dylan\n",
      "The artist ID is: [212]\n",
      "enter artistID:212\n",
      "You selected ['Bob Dylan']\n",
      "\n",
      "If you like ['Bob Dylan']  other users also liked:\n",
      "\n",
      "['The Rolling Stones' 'The Beatles' 'Led Zeppelin' 'Pink Floyd'\n",
      " 'John Lennon' 'The Who' 'The Doors' 'Neil Young' 'The Velvet Underground']\n",
      "\n",
      "You might also consider the following artists:\n",
      "\n",
      "['DIR EN GREY' 'Dido' 'MGMT' 'Manu Chao' 'Ace of Base' 'Panda Bear'\n",
      " 'Seether' 'Sufjan Stevens' 'Sophie Ellis-Bextor']\n"
     ]
    }
   ],
   "source": [
    "#Second example where user inputs artist correctly.\n",
    "a.make_recommendations()"
   ]
  }
 ],
 "metadata": {
  "kernelspec": {
   "display_name": "Python 3",
   "language": "python",
   "name": "python3"
  },
  "language_info": {
   "codemirror_mode": {
    "name": "ipython",
    "version": 3
   },
   "file_extension": ".py",
   "mimetype": "text/x-python",
   "name": "python",
   "nbconvert_exporter": "python",
   "pygments_lexer": "ipython3",
   "version": "3.6.8"
  }
 },
 "nbformat": 4,
 "nbformat_minor": 2
}
